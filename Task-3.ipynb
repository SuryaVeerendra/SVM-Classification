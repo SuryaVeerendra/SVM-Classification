{
 "cells": [
  {
   "cell_type": "code",
   "execution_count": 4,
   "metadata": {},
   "outputs": [
    {
     "name": "stderr",
     "output_type": "stream",
     "text": [
      "C:\\Users\\SURYAVEERENDRA\\AppData\\Local\\Temp\\ipykernel_20560\\1309084500.py:1: DeprecationWarning: \n",
      "Pyarrow will become a required dependency of pandas in the next major release of pandas (pandas 3.0),\n",
      "(to allow more performant data types, such as the Arrow string type, and better interoperability with other libraries)\n",
      "but was not found to be installed on your system.\n",
      "If this would cause problems for you,\n",
      "please provide us feedback at https://github.com/pandas-dev/pandas/issues/54466\n",
      "        \n",
      "  import pandas as pd\n"
     ]
    }
   ],
   "source": [
    "import pandas as pd\n",
    "import os\n",
    "import cv2\n",
    "import pickle\n",
    "import random\n",
    "import numpy as np\n",
    "import matplotlib.pyplot as plt\n",
    "from skimage.io import imread\n",
    "from sklearn.svm import SVC\n",
    "from sklearn.model_selection import train_test_split, GridSearchCV\n",
    "from sklearn.metrics import accuracy_score, classification_report\n",
    "from sklearn.preprocessing import StandardScaler"
   ]
  },
  {
   "cell_type": "code",
   "execution_count": 12,
   "metadata": {},
   "outputs": [],
   "source": [
    "# Directory containing images\n",
    "dir1 = r\"C:\\Users\\SURYAVEERENDRA\\petimages\"\n",
    "categories = ['cats', 'dogs']\n",
    "data = []"
   ]
  },
  {
   "cell_type": "code",
   "execution_count": 13,
   "metadata": {},
   "outputs": [],
   "source": [
    "import os\n",
    "# Load and preprocess images\n",
    "for category in categories:\n",
    "    path = os.path.join(dir1, category)\n",
    "    label = category\n",
    "    for img in os.listdir(path):\n",
    "        img_path = os.path.join(path, img)\n",
    "        try:\n",
    "            pet_img = cv2.imread(img_path, cv2.IMREAD_GRAYSCALE)\n",
    "            pet_img = cv2.resize(pet_img, (64, 64))\n",
    "            image = pet_img.flatten()\n",
    "            data.append([image, label])\n",
    "        except Exception as e:\n",
    "            print(f\"Error processing {img_path}: {e}\")\n"
   ]
  },
  {
   "cell_type": "code",
   "execution_count": 14,
   "metadata": {},
   "outputs": [],
   "source": [
    "\n",
    "# Save processed data\n",
    "with open('data.pkl', 'wb') as pick_in:\n",
    "    pickle.dump(data, pick_in)\n",
    "\n",
    "# Load data and shuffle\n",
    "with open('data.pkl', 'rb') as pick_in:\n",
    "    data = pickle.load(pick_in)\n"
   ]
  },
  {
   "cell_type": "code",
   "execution_count": 15,
   "metadata": {},
   "outputs": [
    {
     "name": "stdout",
     "output_type": "stream",
     "text": [
      "Fitting 3 folds for each of 12 candidates, totalling 36 fits\n",
      "[CV] END ....................C=1, gamma=scale, kernel=linear; total time=   0.0s\n",
      "[CV] END ....................C=1, gamma=scale, kernel=linear; total time=   0.0s\n",
      "[CV] END ....................C=1, gamma=scale, kernel=linear; total time=   0.0s\n",
      "[CV] END .......................C=1, gamma=scale, kernel=rbf; total time=   0.0s\n",
      "[CV] END .......................C=1, gamma=scale, kernel=rbf; total time=   0.0s\n",
      "[CV] END .......................C=1, gamma=scale, kernel=rbf; total time=   0.0s\n",
      "[CV] END .....................C=1, gamma=auto, kernel=linear; total time=   0.0s\n",
      "[CV] END .....................C=1, gamma=auto, kernel=linear; total time=   0.0s\n",
      "[CV] END .....................C=1, gamma=auto, kernel=linear; total time=   0.0s\n",
      "[CV] END ........................C=1, gamma=auto, kernel=rbf; total time=   0.2s\n",
      "[CV] END ........................C=1, gamma=auto, kernel=rbf; total time=   0.1s\n",
      "[CV] END ........................C=1, gamma=auto, kernel=rbf; total time=   0.1s\n",
      "[CV] END ....................C=5, gamma=scale, kernel=linear; total time=   0.0s\n",
      "[CV] END ....................C=5, gamma=scale, kernel=linear; total time=   0.0s\n",
      "[CV] END ....................C=5, gamma=scale, kernel=linear; total time=   0.0s\n",
      "[CV] END .......................C=5, gamma=scale, kernel=rbf; total time=   0.0s\n",
      "[CV] END .......................C=5, gamma=scale, kernel=rbf; total time=   0.2s\n",
      "[CV] END .......................C=5, gamma=scale, kernel=rbf; total time=   0.1s\n",
      "[CV] END .....................C=5, gamma=auto, kernel=linear; total time=   0.1s\n",
      "[CV] END .....................C=5, gamma=auto, kernel=linear; total time=   0.1s\n",
      "[CV] END .....................C=5, gamma=auto, kernel=linear; total time=   0.2s\n",
      "[CV] END ........................C=5, gamma=auto, kernel=rbf; total time=   0.3s\n",
      "[CV] END ........................C=5, gamma=auto, kernel=rbf; total time=   0.2s\n",
      "[CV] END ........................C=5, gamma=auto, kernel=rbf; total time=   0.1s\n",
      "[CV] END ...................C=10, gamma=scale, kernel=linear; total time=   0.0s\n",
      "[CV] END ...................C=10, gamma=scale, kernel=linear; total time=   0.0s\n",
      "[CV] END ...................C=10, gamma=scale, kernel=linear; total time=   0.0s\n",
      "[CV] END ......................C=10, gamma=scale, kernel=rbf; total time=   0.0s\n",
      "[CV] END ......................C=10, gamma=scale, kernel=rbf; total time=   0.0s\n",
      "[CV] END ......................C=10, gamma=scale, kernel=rbf; total time=   0.0s\n",
      "[CV] END ....................C=10, gamma=auto, kernel=linear; total time=   0.0s\n",
      "[CV] END ....................C=10, gamma=auto, kernel=linear; total time=   0.0s\n",
      "[CV] END ....................C=10, gamma=auto, kernel=linear; total time=   0.0s\n",
      "[CV] END .......................C=10, gamma=auto, kernel=rbf; total time=   0.0s\n",
      "[CV] END .......................C=10, gamma=auto, kernel=rbf; total time=   0.0s\n",
      "[CV] END .......................C=10, gamma=auto, kernel=rbf; total time=   0.0s\n",
      "Improved Accuracy: 0.5972\n",
      "              precision    recall  f1-score   support\n",
      "\n",
      "        cats       0.65      0.60      0.62        40\n",
      "        dogs       0.54      0.59      0.57        32\n",
      "\n",
      "    accuracy                           0.60        72\n",
      "   macro avg       0.60      0.60      0.60        72\n",
      "weighted avg       0.60      0.60      0.60        72\n",
      "\n"
     ]
    },
    {
     "data": {
      "image/png": "[encoded data removed]",
      "text/plain": [
       "<Figure size 640x480 with 1 Axes>"
      ]
     },
     "metadata": {},
     "output_type": "display_data"
    }
   ],
   "source": [
    "\n",
    "random.shuffle(data)\n",
    "\n",
    "# Separate features and labels\n",
    "features = np.array([item[0] for item in data])\n",
    "labels = np.array([item[1] for item in data])\n",
    "\n",
    "# Scale features\n",
    "scaler = StandardScaler()\n",
    "features = scaler.fit_transform(features)\n",
    "\n",
    "# Split data into train and test sets\n",
    "x_train, x_test, y_train, y_test = train_test_split(features, labels, test_size=0.2, random_state=42)\n",
    "\n",
    "# Hyperparameter tuning with GridSearchCV\n",
    "param_grid = {\n",
    "    'C': [1, 5, 10],\n",
    "    'kernel': ['linear', 'rbf'],\n",
    "    'gamma': ['scale', 'auto']\n",
    "}\n",
    "\n",
    "svc = SVC()\n",
    "grid_search = GridSearchCV(svc, param_grid, cv=3, verbose=2)\n",
    "grid_search.fit(x_train, y_train)\n",
    "\n",
    "# Evaluate the best model\n",
    "best_model = grid_search.best_estimator_\n",
    "predictions = best_model.predict(x_test)\n",
    "\n",
    "accuracy = accuracy_score(y_test, predictions)\n",
    "print(f\"Improved Accuracy: {accuracy:.4f}\")\n",
    "print(classification_report(y_test, predictions))\n",
    "\n",
    "# Display a sample prediction\n",
    "sample_index = 30\n",
    "sample_image = x_test[sample_index].reshape(64, 64)\n",
    "predicted_label = best_model.predict([x_test[sample_index]])[0]\n",
    "plt.title(f\"Predicted: {predicted_label}\")\n",
    "plt.imshow(sample_image, cmap='gray')\n",
    "plt.show()\n"
   ]
  },
  {
   "cell_type": "code",
   "execution_count": null,
   "metadata": {},
   "outputs": [],
   "source": []
  }
 ],
 "metadata": {
  "kernelspec": {
   "display_name": "Python 3",
   "language": "python",
   "name": "python3"
  },
  "language_info": {
   "codemirror_mode": {
    "name": "ipython",
    "version": 3
   },
   "file_extension": ".py",
   "mimetype": "text/x-python",
   "name": "python",
   "nbconvert_exporter": "python",
   "pygments_lexer": "ipython3",
   "version": "3.12.2"
  }
 },
 "nbformat": 4,
 "nbformat_minor": 2
}
